{
 "cells": [
  {
   "cell_type": "code",
   "execution_count": 1,
   "id": "747968f3-9165-434a-9856-fa8cd5a1939a",
   "metadata": {},
   "outputs": [],
   "source": [
    "import pandas as pd"
   ]
  },
  {
   "cell_type": "code",
   "execution_count": 2,
   "id": "dc8cc5bf-74ee-40ae-bfca-15d3bddb3f0d",
   "metadata": {},
   "outputs": [],
   "source": [
    "DATAPATH = '../data/'\n",
    "\n",
    "appearances = pd.read_csv(f'{DATAPATH}/appearances.csv')\n",
    "games = pd.read_csv(f'{DATAPATH}/games.csv')\n",
    "leagues = pd.read_csv(f'{DATAPATH}/leagues.csv')\n",
    "players = pd.read_csv(f'{DATAPATH}/players.csv')\n",
    "shots = pd.read_csv(f'{DATAPATH}/shots.csv')\n",
    "teams = pd.read_csv(f'{DATAPATH}/teams.csv')\n",
    "teamstats = pd.read_csv(f'{DATAPATH}/teamstats.csv')"
   ]
  },
  {
   "cell_type": "markdown",
   "id": "7e9a88ee-5699-4703-a130-9a8b451a54ec",
   "metadata": {},
   "source": [
    "## Leagues"
   ]
  },
  {
   "cell_type": "code",
   "execution_count": 3,
   "id": "38791534-b321-4e30-aff4-db1c7b456019",
   "metadata": {},
   "outputs": [
    {
     "data": {
      "text/html": [
       "<div>\n",
       "<style scoped>\n",
       "    .dataframe tbody tr th:only-of-type {\n",
       "        vertical-align: middle;\n",
       "    }\n",
       "\n",
       "    .dataframe tbody tr th {\n",
       "        vertical-align: top;\n",
       "    }\n",
       "\n",
       "    .dataframe thead th {\n",
       "        text-align: right;\n",
       "    }\n",
       "</style>\n",
       "<table border=\"1\" class=\"dataframe\">\n",
       "  <thead>\n",
       "    <tr style=\"text-align: right;\">\n",
       "      <th></th>\n",
       "      <th>leagueID</th>\n",
       "      <th>name</th>\n",
       "      <th>understatNotation</th>\n",
       "    </tr>\n",
       "  </thead>\n",
       "  <tbody>\n",
       "    <tr>\n",
       "      <th>0</th>\n",
       "      <td>1</td>\n",
       "      <td>Premier League</td>\n",
       "      <td>EPL</td>\n",
       "    </tr>\n",
       "    <tr>\n",
       "      <th>1</th>\n",
       "      <td>2</td>\n",
       "      <td>Serie A</td>\n",
       "      <td>Serie_A</td>\n",
       "    </tr>\n",
       "  </tbody>\n",
       "</table>\n",
       "</div>"
      ],
      "text/plain": [
       "   leagueID            name understatNotation\n",
       "0         1  Premier League               EPL\n",
       "1         2         Serie A           Serie_A"
      ]
     },
     "execution_count": 3,
     "metadata": {},
     "output_type": "execute_result"
    }
   ],
   "source": [
    "leagues.head(2)"
   ]
  },
  {
   "cell_type": "code",
   "execution_count": 4,
   "id": "078891d4-1bbe-4ea7-8923-254cfe164a33",
   "metadata": {},
   "outputs": [
    {
     "name": "stdout",
     "output_type": "stream",
     "text": [
      "<class 'pandas.core.frame.DataFrame'>\n",
      "RangeIndex: 5 entries, 0 to 4\n",
      "Data columns (total 3 columns):\n",
      " #   Column             Non-Null Count  Dtype \n",
      "---  ------             --------------  ----- \n",
      " 0   leagueID           5 non-null      int64 \n",
      " 1   name               5 non-null      object\n",
      " 2   understatNotation  5 non-null      object\n",
      "dtypes: int64(1), object(2)\n",
      "memory usage: 248.0+ bytes\n"
     ]
    }
   ],
   "source": [
    "leagues.info()"
   ]
  },
  {
   "cell_type": "code",
   "execution_count": 5,
   "id": "30e33ab4-c4c5-4c92-a5a1-67fc0f372ad9",
   "metadata": {},
   "outputs": [
    {
     "data": {
      "text/html": [
       "<div>\n",
       "<style scoped>\n",
       "    .dataframe tbody tr th:only-of-type {\n",
       "        vertical-align: middle;\n",
       "    }\n",
       "\n",
       "    .dataframe tbody tr th {\n",
       "        vertical-align: top;\n",
       "    }\n",
       "\n",
       "    .dataframe thead th {\n",
       "        text-align: right;\n",
       "    }\n",
       "</style>\n",
       "<table border=\"1\" class=\"dataframe\">\n",
       "  <thead>\n",
       "    <tr style=\"text-align: right;\">\n",
       "      <th></th>\n",
       "      <th>leagueID</th>\n",
       "      <th>name</th>\n",
       "      <th>understatNotation</th>\n",
       "    </tr>\n",
       "  </thead>\n",
       "  <tbody>\n",
       "  </tbody>\n",
       "</table>\n",
       "</div>"
      ],
      "text/plain": [
       "Empty DataFrame\n",
       "Columns: [leagueID, name, understatNotation]\n",
       "Index: []"
      ]
     },
     "execution_count": 5,
     "metadata": {},
     "output_type": "execute_result"
    }
   ],
   "source": [
    "leagues[leagues.duplicated(subset=['leagueID'])]"
   ]
  },
  {
   "cell_type": "markdown",
   "id": "3c2ad5be-d8ef-4a95-97d5-c29031c38685",
   "metadata": {},
   "source": [
    "## Players"
   ]
  },
  {
   "cell_type": "code",
   "execution_count": 6,
   "id": "33030a24-0154-4894-b2c1-e153fe09ca54",
   "metadata": {},
   "outputs": [
    {
     "data": {
      "text/html": [
       "<div>\n",
       "<style scoped>\n",
       "    .dataframe tbody tr th:only-of-type {\n",
       "        vertical-align: middle;\n",
       "    }\n",
       "\n",
       "    .dataframe tbody tr th {\n",
       "        vertical-align: top;\n",
       "    }\n",
       "\n",
       "    .dataframe thead th {\n",
       "        text-align: right;\n",
       "    }\n",
       "</style>\n",
       "<table border=\"1\" class=\"dataframe\">\n",
       "  <thead>\n",
       "    <tr style=\"text-align: right;\">\n",
       "      <th></th>\n",
       "      <th>playerID</th>\n",
       "      <th>name</th>\n",
       "    </tr>\n",
       "  </thead>\n",
       "  <tbody>\n",
       "    <tr>\n",
       "      <th>0</th>\n",
       "      <td>560</td>\n",
       "      <td>Sergio Romero</td>\n",
       "    </tr>\n",
       "    <tr>\n",
       "      <th>1</th>\n",
       "      <td>557</td>\n",
       "      <td>Matteo Darmian</td>\n",
       "    </tr>\n",
       "  </tbody>\n",
       "</table>\n",
       "</div>"
      ],
      "text/plain": [
       "   playerID            name\n",
       "0       560   Sergio Romero\n",
       "1       557  Matteo Darmian"
      ]
     },
     "execution_count": 6,
     "metadata": {},
     "output_type": "execute_result"
    }
   ],
   "source": [
    "players.head(2)"
   ]
  },
  {
   "cell_type": "code",
   "execution_count": 7,
   "id": "f943c3e9-1a07-44fa-9214-83ead41f80a7",
   "metadata": {},
   "outputs": [
    {
     "name": "stdout",
     "output_type": "stream",
     "text": [
      "<class 'pandas.core.frame.DataFrame'>\n",
      "RangeIndex: 7659 entries, 0 to 7658\n",
      "Data columns (total 2 columns):\n",
      " #   Column    Non-Null Count  Dtype \n",
      "---  ------    --------------  ----- \n",
      " 0   playerID  7659 non-null   int64 \n",
      " 1   name      7659 non-null   object\n",
      "dtypes: int64(1), object(1)\n",
      "memory usage: 119.8+ KB\n"
     ]
    }
   ],
   "source": [
    "players.info()"
   ]
  },
  {
   "cell_type": "code",
   "execution_count": 8,
   "id": "ff8c25a6-97e0-4bae-b7ee-1ded8cd50591",
   "metadata": {},
   "outputs": [
    {
     "data": {
      "text/html": [
       "<div>\n",
       "<style scoped>\n",
       "    .dataframe tbody tr th:only-of-type {\n",
       "        vertical-align: middle;\n",
       "    }\n",
       "\n",
       "    .dataframe tbody tr th {\n",
       "        vertical-align: top;\n",
       "    }\n",
       "\n",
       "    .dataframe thead th {\n",
       "        text-align: right;\n",
       "    }\n",
       "</style>\n",
       "<table border=\"1\" class=\"dataframe\">\n",
       "  <thead>\n",
       "    <tr style=\"text-align: right;\">\n",
       "      <th></th>\n",
       "      <th>playerID</th>\n",
       "      <th>name</th>\n",
       "    </tr>\n",
       "  </thead>\n",
       "  <tbody>\n",
       "  </tbody>\n",
       "</table>\n",
       "</div>"
      ],
      "text/plain": [
       "Empty DataFrame\n",
       "Columns: [playerID, name]\n",
       "Index: []"
      ]
     },
     "execution_count": 8,
     "metadata": {},
     "output_type": "execute_result"
    }
   ],
   "source": [
    "players[players.duplicated(subset=['playerID'])]"
   ]
  },
  {
   "cell_type": "markdown",
   "id": "d4ab4543-adde-4951-b07e-4dbdf98ce537",
   "metadata": {},
   "source": [
    "## Teams"
   ]
  },
  {
   "cell_type": "code",
   "execution_count": 9,
   "id": "8899e326-14ee-414f-a67b-a08077d32429",
   "metadata": {},
   "outputs": [
    {
     "data": {
      "text/html": [
       "<div>\n",
       "<style scoped>\n",
       "    .dataframe tbody tr th:only-of-type {\n",
       "        vertical-align: middle;\n",
       "    }\n",
       "\n",
       "    .dataframe tbody tr th {\n",
       "        vertical-align: top;\n",
       "    }\n",
       "\n",
       "    .dataframe thead th {\n",
       "        text-align: right;\n",
       "    }\n",
       "</style>\n",
       "<table border=\"1\" class=\"dataframe\">\n",
       "  <thead>\n",
       "    <tr style=\"text-align: right;\">\n",
       "      <th></th>\n",
       "      <th>teamID</th>\n",
       "      <th>name</th>\n",
       "    </tr>\n",
       "  </thead>\n",
       "  <tbody>\n",
       "    <tr>\n",
       "      <th>0</th>\n",
       "      <td>71</td>\n",
       "      <td>Aston Villa</td>\n",
       "    </tr>\n",
       "    <tr>\n",
       "      <th>1</th>\n",
       "      <td>72</td>\n",
       "      <td>Everton</td>\n",
       "    </tr>\n",
       "  </tbody>\n",
       "</table>\n",
       "</div>"
      ],
      "text/plain": [
       "   teamID         name\n",
       "0      71  Aston Villa\n",
       "1      72      Everton"
      ]
     },
     "execution_count": 9,
     "metadata": {},
     "output_type": "execute_result"
    }
   ],
   "source": [
    "teams.head(2)"
   ]
  },
  {
   "cell_type": "code",
   "execution_count": 10,
   "id": "a7f212a2-5a9d-4907-afd7-fa36fa6cca85",
   "metadata": {},
   "outputs": [
    {
     "name": "stdout",
     "output_type": "stream",
     "text": [
      "<class 'pandas.core.frame.DataFrame'>\n",
      "RangeIndex: 146 entries, 0 to 145\n",
      "Data columns (total 2 columns):\n",
      " #   Column  Non-Null Count  Dtype \n",
      "---  ------  --------------  ----- \n",
      " 0   teamID  146 non-null    int64 \n",
      " 1   name    146 non-null    object\n",
      "dtypes: int64(1), object(1)\n",
      "memory usage: 2.4+ KB\n"
     ]
    }
   ],
   "source": [
    "teams.info()"
   ]
  },
  {
   "cell_type": "code",
   "execution_count": 11,
   "id": "c7b4c014-3f71-4c2d-b1b2-010cc99f727f",
   "metadata": {},
   "outputs": [
    {
     "data": {
      "text/html": [
       "<div>\n",
       "<style scoped>\n",
       "    .dataframe tbody tr th:only-of-type {\n",
       "        vertical-align: middle;\n",
       "    }\n",
       "\n",
       "    .dataframe tbody tr th {\n",
       "        vertical-align: top;\n",
       "    }\n",
       "\n",
       "    .dataframe thead th {\n",
       "        text-align: right;\n",
       "    }\n",
       "</style>\n",
       "<table border=\"1\" class=\"dataframe\">\n",
       "  <thead>\n",
       "    <tr style=\"text-align: right;\">\n",
       "      <th></th>\n",
       "      <th>teamID</th>\n",
       "      <th>name</th>\n",
       "    </tr>\n",
       "  </thead>\n",
       "  <tbody>\n",
       "  </tbody>\n",
       "</table>\n",
       "</div>"
      ],
      "text/plain": [
       "Empty DataFrame\n",
       "Columns: [teamID, name]\n",
       "Index: []"
      ]
     },
     "execution_count": 11,
     "metadata": {},
     "output_type": "execute_result"
    }
   ],
   "source": [
    "teams[teams.duplicated(subset=['teamID'])]"
   ]
  },
  {
   "cell_type": "markdown",
   "id": "202791d3-cc2f-421e-8be8-069ac281525c",
   "metadata": {},
   "source": [
    "## Games"
   ]
  },
  {
   "cell_type": "code",
   "execution_count": 12,
   "id": "3ac4235d-f3da-4185-a9ef-a6b2e4a70426",
   "metadata": {},
   "outputs": [
    {
     "data": {
      "text/html": [
       "<div>\n",
       "<style scoped>\n",
       "    .dataframe tbody tr th:only-of-type {\n",
       "        vertical-align: middle;\n",
       "    }\n",
       "\n",
       "    .dataframe tbody tr th {\n",
       "        vertical-align: top;\n",
       "    }\n",
       "\n",
       "    .dataframe thead th {\n",
       "        text-align: right;\n",
       "    }\n",
       "</style>\n",
       "<table border=\"1\" class=\"dataframe\">\n",
       "  <thead>\n",
       "    <tr style=\"text-align: right;\">\n",
       "      <th></th>\n",
       "      <th>gameID</th>\n",
       "      <th>leagueID</th>\n",
       "      <th>season</th>\n",
       "      <th>date</th>\n",
       "      <th>homeTeamID</th>\n",
       "      <th>awayTeamID</th>\n",
       "      <th>homeGoals</th>\n",
       "      <th>awayGoals</th>\n",
       "      <th>homeProbability</th>\n",
       "      <th>drawProbability</th>\n",
       "      <th>...</th>\n",
       "      <th>PSA</th>\n",
       "      <th>WHH</th>\n",
       "      <th>WHD</th>\n",
       "      <th>WHA</th>\n",
       "      <th>VCH</th>\n",
       "      <th>VCD</th>\n",
       "      <th>VCA</th>\n",
       "      <th>PSCH</th>\n",
       "      <th>PSCD</th>\n",
       "      <th>PSCA</th>\n",
       "    </tr>\n",
       "  </thead>\n",
       "  <tbody>\n",
       "    <tr>\n",
       "      <th>0</th>\n",
       "      <td>81</td>\n",
       "      <td>1</td>\n",
       "      <td>2015</td>\n",
       "      <td>2015-08-08 15:45:00</td>\n",
       "      <td>89</td>\n",
       "      <td>82</td>\n",
       "      <td>1</td>\n",
       "      <td>0</td>\n",
       "      <td>0.2843</td>\n",
       "      <td>0.3999</td>\n",
       "      <td>...</td>\n",
       "      <td>5.90</td>\n",
       "      <td>1.62</td>\n",
       "      <td>3.6</td>\n",
       "      <td>6.0</td>\n",
       "      <td>1.67</td>\n",
       "      <td>4.0</td>\n",
       "      <td>5.75</td>\n",
       "      <td>1.64</td>\n",
       "      <td>4.07</td>\n",
       "      <td>6.04</td>\n",
       "    </tr>\n",
       "    <tr>\n",
       "      <th>1</th>\n",
       "      <td>82</td>\n",
       "      <td>1</td>\n",
       "      <td>2015</td>\n",
       "      <td>2015-08-08 18:00:00</td>\n",
       "      <td>73</td>\n",
       "      <td>71</td>\n",
       "      <td>0</td>\n",
       "      <td>1</td>\n",
       "      <td>0.3574</td>\n",
       "      <td>0.3500</td>\n",
       "      <td>...</td>\n",
       "      <td>4.27</td>\n",
       "      <td>1.91</td>\n",
       "      <td>3.5</td>\n",
       "      <td>4.0</td>\n",
       "      <td>2.00</td>\n",
       "      <td>3.5</td>\n",
       "      <td>4.20</td>\n",
       "      <td>1.82</td>\n",
       "      <td>3.88</td>\n",
       "      <td>4.70</td>\n",
       "    </tr>\n",
       "  </tbody>\n",
       "</table>\n",
       "<p>2 rows × 34 columns</p>\n",
       "</div>"
      ],
      "text/plain": [
       "   gameID  leagueID  season                 date  homeTeamID  awayTeamID  \\\n",
       "0      81         1    2015  2015-08-08 15:45:00          89          82   \n",
       "1      82         1    2015  2015-08-08 18:00:00          73          71   \n",
       "\n",
       "   homeGoals  awayGoals  homeProbability  drawProbability  ...   PSA   WHH  \\\n",
       "0          1          0           0.2843           0.3999  ...  5.90  1.62   \n",
       "1          0          1           0.3574           0.3500  ...  4.27  1.91   \n",
       "\n",
       "   WHD  WHA   VCH  VCD   VCA  PSCH  PSCD  PSCA  \n",
       "0  3.6  6.0  1.67  4.0  5.75  1.64  4.07  6.04  \n",
       "1  3.5  4.0  2.00  3.5  4.20  1.82  3.88  4.70  \n",
       "\n",
       "[2 rows x 34 columns]"
      ]
     },
     "execution_count": 12,
     "metadata": {},
     "output_type": "execute_result"
    }
   ],
   "source": [
    "games.head(2)"
   ]
  },
  {
   "cell_type": "code",
   "execution_count": 13,
   "id": "67c54036-43fe-4313-b298-ef502e4ba6ac",
   "metadata": {},
   "outputs": [
    {
     "name": "stdout",
     "output_type": "stream",
     "text": [
      "<class 'pandas.core.frame.DataFrame'>\n",
      "RangeIndex: 12680 entries, 0 to 12679\n",
      "Data columns (total 34 columns):\n",
      " #   Column             Non-Null Count  Dtype  \n",
      "---  ------             --------------  -----  \n",
      " 0   gameID             12680 non-null  int64  \n",
      " 1   leagueID           12680 non-null  int64  \n",
      " 2   season             12680 non-null  int64  \n",
      " 3   date               12680 non-null  object \n",
      " 4   homeTeamID         12680 non-null  int64  \n",
      " 5   awayTeamID         12680 non-null  int64  \n",
      " 6   homeGoals          12680 non-null  int64  \n",
      " 7   awayGoals          12680 non-null  int64  \n",
      " 8   homeProbability    12680 non-null  float64\n",
      " 9   drawProbability    12680 non-null  float64\n",
      " 10  awayProbability    12680 non-null  float64\n",
      " 11  homeGoalsHalfTime  12680 non-null  int64  \n",
      " 12  awayGoalsHalfTime  12680 non-null  int64  \n",
      " 13  B365H              12675 non-null  float64\n",
      " 14  B365D              12675 non-null  float64\n",
      " 15  B365A              12675 non-null  float64\n",
      " 16  BWH                12677 non-null  float64\n",
      " 17  BWD                12677 non-null  float64\n",
      " 18  BWA                12677 non-null  float64\n",
      " 19  IWH                12662 non-null  float64\n",
      " 20  IWD                12662 non-null  float64\n",
      " 21  IWA                12662 non-null  float64\n",
      " 22  PSH                12660 non-null  float64\n",
      " 23  PSD                12660 non-null  float64\n",
      " 24  PSA                12660 non-null  float64\n",
      " 25  WHH                12674 non-null  float64\n",
      " 26  WHD                12674 non-null  float64\n",
      " 27  WHA                12674 non-null  float64\n",
      " 28  VCH                12676 non-null  float64\n",
      " 29  VCD                12676 non-null  float64\n",
      " 30  VCA                12676 non-null  float64\n",
      " 31  PSCH               12678 non-null  float64\n",
      " 32  PSCD               12678 non-null  float64\n",
      " 33  PSCA               12678 non-null  float64\n",
      "dtypes: float64(24), int64(9), object(1)\n",
      "memory usage: 3.3+ MB\n"
     ]
    }
   ],
   "source": [
    "games.info()"
   ]
  },
  {
   "cell_type": "code",
   "execution_count": 14,
   "id": "a78ce190-3dac-4bf8-a0de-ca6a3d952500",
   "metadata": {},
   "outputs": [
    {
     "data": {
      "text/html": [
       "<div>\n",
       "<style scoped>\n",
       "    .dataframe tbody tr th:only-of-type {\n",
       "        vertical-align: middle;\n",
       "    }\n",
       "\n",
       "    .dataframe tbody tr th {\n",
       "        vertical-align: top;\n",
       "    }\n",
       "\n",
       "    .dataframe thead th {\n",
       "        text-align: right;\n",
       "    }\n",
       "</style>\n",
       "<table border=\"1\" class=\"dataframe\">\n",
       "  <thead>\n",
       "    <tr style=\"text-align: right;\">\n",
       "      <th></th>\n",
       "      <th>gameID</th>\n",
       "      <th>leagueID</th>\n",
       "      <th>season</th>\n",
       "      <th>date</th>\n",
       "      <th>homeTeamID</th>\n",
       "      <th>awayTeamID</th>\n",
       "      <th>homeGoals</th>\n",
       "      <th>awayGoals</th>\n",
       "      <th>homeProbability</th>\n",
       "      <th>drawProbability</th>\n",
       "      <th>...</th>\n",
       "      <th>PSA</th>\n",
       "      <th>WHH</th>\n",
       "      <th>WHD</th>\n",
       "      <th>WHA</th>\n",
       "      <th>VCH</th>\n",
       "      <th>VCD</th>\n",
       "      <th>VCA</th>\n",
       "      <th>PSCH</th>\n",
       "      <th>PSCD</th>\n",
       "      <th>PSCA</th>\n",
       "    </tr>\n",
       "  </thead>\n",
       "  <tbody>\n",
       "  </tbody>\n",
       "</table>\n",
       "<p>0 rows × 34 columns</p>\n",
       "</div>"
      ],
      "text/plain": [
       "Empty DataFrame\n",
       "Columns: [gameID, leagueID, season, date, homeTeamID, awayTeamID, homeGoals, awayGoals, homeProbability, drawProbability, awayProbability, homeGoalsHalfTime, awayGoalsHalfTime, B365H, B365D, B365A, BWH, BWD, BWA, IWH, IWD, IWA, PSH, PSD, PSA, WHH, WHD, WHA, VCH, VCD, VCA, PSCH, PSCD, PSCA]\n",
       "Index: []\n",
       "\n",
       "[0 rows x 34 columns]"
      ]
     },
     "execution_count": 14,
     "metadata": {},
     "output_type": "execute_result"
    }
   ],
   "source": [
    "games[games.duplicated(subset=['gameID'])]"
   ]
  },
  {
   "cell_type": "markdown",
   "id": "f607836a-7b6a-455b-b6d3-e42ea7ae5276",
   "metadata": {},
   "source": [
    "## Shots"
   ]
  },
  {
   "cell_type": "code",
   "execution_count": 15,
   "id": "1b8d391f-5838-4cdb-8b8f-9fe85e3abb14",
   "metadata": {},
   "outputs": [
    {
     "data": {
      "text/html": [
       "<div>\n",
       "<style scoped>\n",
       "    .dataframe tbody tr th:only-of-type {\n",
       "        vertical-align: middle;\n",
       "    }\n",
       "\n",
       "    .dataframe tbody tr th {\n",
       "        vertical-align: top;\n",
       "    }\n",
       "\n",
       "    .dataframe thead th {\n",
       "        text-align: right;\n",
       "    }\n",
       "</style>\n",
       "<table border=\"1\" class=\"dataframe\">\n",
       "  <thead>\n",
       "    <tr style=\"text-align: right;\">\n",
       "      <th></th>\n",
       "      <th>gameID</th>\n",
       "      <th>shooterID</th>\n",
       "      <th>assisterID</th>\n",
       "      <th>minute</th>\n",
       "      <th>situation</th>\n",
       "      <th>lastAction</th>\n",
       "      <th>shotType</th>\n",
       "      <th>shotResult</th>\n",
       "      <th>xGoal</th>\n",
       "      <th>positionX</th>\n",
       "      <th>positionY</th>\n",
       "    </tr>\n",
       "  </thead>\n",
       "  <tbody>\n",
       "    <tr>\n",
       "      <th>0</th>\n",
       "      <td>81</td>\n",
       "      <td>554</td>\n",
       "      <td>NaN</td>\n",
       "      <td>27</td>\n",
       "      <td>DirectFreekick</td>\n",
       "      <td>Standard</td>\n",
       "      <td>LeftFoot</td>\n",
       "      <td>BlockedShot</td>\n",
       "      <td>0.104347</td>\n",
       "      <td>0.794</td>\n",
       "      <td>0.421</td>\n",
       "    </tr>\n",
       "    <tr>\n",
       "      <th>1</th>\n",
       "      <td>81</td>\n",
       "      <td>555</td>\n",
       "      <td>631.0</td>\n",
       "      <td>27</td>\n",
       "      <td>SetPiece</td>\n",
       "      <td>Pass</td>\n",
       "      <td>RightFoot</td>\n",
       "      <td>BlockedShot</td>\n",
       "      <td>0.064342</td>\n",
       "      <td>0.860</td>\n",
       "      <td>0.627</td>\n",
       "    </tr>\n",
       "  </tbody>\n",
       "</table>\n",
       "</div>"
      ],
      "text/plain": [
       "   gameID  shooterID  assisterID  minute       situation lastAction  \\\n",
       "0      81        554         NaN      27  DirectFreekick   Standard   \n",
       "1      81        555       631.0      27        SetPiece       Pass   \n",
       "\n",
       "    shotType   shotResult     xGoal  positionX  positionY  \n",
       "0   LeftFoot  BlockedShot  0.104347      0.794      0.421  \n",
       "1  RightFoot  BlockedShot  0.064342      0.860      0.627  "
      ]
     },
     "execution_count": 15,
     "metadata": {},
     "output_type": "execute_result"
    }
   ],
   "source": [
    "shots.head(2)"
   ]
  },
  {
   "cell_type": "code",
   "execution_count": 16,
   "id": "785109c1-3d12-401c-b2ec-b00cabce8937",
   "metadata": {},
   "outputs": [
    {
     "name": "stdout",
     "output_type": "stream",
     "text": [
      "<class 'pandas.core.frame.DataFrame'>\n",
      "RangeIndex: 324543 entries, 0 to 324542\n",
      "Data columns (total 11 columns):\n",
      " #   Column      Non-Null Count   Dtype  \n",
      "---  ------      --------------   -----  \n",
      " 0   gameID      324543 non-null  int64  \n",
      " 1   shooterID   324543 non-null  int64  \n",
      " 2   assisterID  240199 non-null  float64\n",
      " 3   minute      324543 non-null  int64  \n",
      " 4   situation   324543 non-null  object \n",
      " 5   lastAction  324543 non-null  object \n",
      " 6   shotType    324543 non-null  object \n",
      " 7   shotResult  324543 non-null  object \n",
      " 8   xGoal       324543 non-null  float64\n",
      " 9   positionX   324543 non-null  float64\n",
      " 10  positionY   324543 non-null  float64\n",
      "dtypes: float64(4), int64(3), object(4)\n",
      "memory usage: 27.2+ MB\n"
     ]
    }
   ],
   "source": [
    "shots.info()"
   ]
  },
  {
   "cell_type": "code",
   "execution_count": 17,
   "id": "d2d52482-c115-42f4-8117-2ce7ac815e76",
   "metadata": {},
   "outputs": [
    {
     "data": {
      "text/html": [
       "<div>\n",
       "<style scoped>\n",
       "    .dataframe tbody tr th:only-of-type {\n",
       "        vertical-align: middle;\n",
       "    }\n",
       "\n",
       "    .dataframe tbody tr th {\n",
       "        vertical-align: top;\n",
       "    }\n",
       "\n",
       "    .dataframe thead th {\n",
       "        text-align: right;\n",
       "    }\n",
       "</style>\n",
       "<table border=\"1\" class=\"dataframe\">\n",
       "  <thead>\n",
       "    <tr style=\"text-align: right;\">\n",
       "      <th></th>\n",
       "      <th>gameID</th>\n",
       "      <th>shooterID</th>\n",
       "      <th>assisterID</th>\n",
       "      <th>minute</th>\n",
       "      <th>situation</th>\n",
       "      <th>lastAction</th>\n",
       "      <th>shotType</th>\n",
       "      <th>shotResult</th>\n",
       "      <th>xGoal</th>\n",
       "      <th>positionX</th>\n",
       "      <th>positionY</th>\n",
       "    </tr>\n",
       "  </thead>\n",
       "  <tbody>\n",
       "  </tbody>\n",
       "</table>\n",
       "</div>"
      ],
      "text/plain": [
       "Empty DataFrame\n",
       "Columns: [gameID, shooterID, assisterID, minute, situation, lastAction, shotType, shotResult, xGoal, positionX, positionY]\n",
       "Index: []"
      ]
     },
     "execution_count": 17,
     "metadata": {},
     "output_type": "execute_result"
    }
   ],
   "source": [
    "shots[shots.duplicated()]"
   ]
  },
  {
   "cell_type": "markdown",
   "id": "1881ace0-c6b4-4bd8-9c09-77e5287b6321",
   "metadata": {
    "tags": []
   },
   "source": [
    "## Appearances"
   ]
  },
  {
   "cell_type": "code",
   "execution_count": 18,
   "id": "e04f4c17-672f-467b-9fba-aff97f5ab3f9",
   "metadata": {},
   "outputs": [
    {
     "data": {
      "text/html": [
       "<div>\n",
       "<style scoped>\n",
       "    .dataframe tbody tr th:only-of-type {\n",
       "        vertical-align: middle;\n",
       "    }\n",
       "\n",
       "    .dataframe tbody tr th {\n",
       "        vertical-align: top;\n",
       "    }\n",
       "\n",
       "    .dataframe thead th {\n",
       "        text-align: right;\n",
       "    }\n",
       "</style>\n",
       "<table border=\"1\" class=\"dataframe\">\n",
       "  <thead>\n",
       "    <tr style=\"text-align: right;\">\n",
       "      <th></th>\n",
       "      <th>gameID</th>\n",
       "      <th>playerID</th>\n",
       "      <th>goals</th>\n",
       "      <th>ownGoals</th>\n",
       "      <th>shots</th>\n",
       "      <th>xGoals</th>\n",
       "      <th>xGoalsChain</th>\n",
       "      <th>xGoalsBuildup</th>\n",
       "      <th>assists</th>\n",
       "      <th>keyPasses</th>\n",
       "      <th>xAssists</th>\n",
       "      <th>position</th>\n",
       "      <th>positionOrder</th>\n",
       "      <th>yellowCard</th>\n",
       "      <th>redCard</th>\n",
       "      <th>time</th>\n",
       "      <th>substituteIn</th>\n",
       "      <th>substituteOut</th>\n",
       "      <th>leagueID</th>\n",
       "    </tr>\n",
       "  </thead>\n",
       "  <tbody>\n",
       "    <tr>\n",
       "      <th>0</th>\n",
       "      <td>81</td>\n",
       "      <td>560</td>\n",
       "      <td>0</td>\n",
       "      <td>0</td>\n",
       "      <td>0</td>\n",
       "      <td>0.0</td>\n",
       "      <td>0.000000</td>\n",
       "      <td>0.000000</td>\n",
       "      <td>0</td>\n",
       "      <td>0</td>\n",
       "      <td>0.000000</td>\n",
       "      <td>GK</td>\n",
       "      <td>1</td>\n",
       "      <td>0</td>\n",
       "      <td>0</td>\n",
       "      <td>90</td>\n",
       "      <td>0</td>\n",
       "      <td>0</td>\n",
       "      <td>1</td>\n",
       "    </tr>\n",
       "    <tr>\n",
       "      <th>1</th>\n",
       "      <td>81</td>\n",
       "      <td>557</td>\n",
       "      <td>0</td>\n",
       "      <td>0</td>\n",
       "      <td>0</td>\n",
       "      <td>0.0</td>\n",
       "      <td>0.106513</td>\n",
       "      <td>0.106513</td>\n",
       "      <td>0</td>\n",
       "      <td>1</td>\n",
       "      <td>0.106513</td>\n",
       "      <td>DR</td>\n",
       "      <td>2</td>\n",
       "      <td>0</td>\n",
       "      <td>0</td>\n",
       "      <td>82</td>\n",
       "      <td>222605</td>\n",
       "      <td>0</td>\n",
       "      <td>1</td>\n",
       "    </tr>\n",
       "  </tbody>\n",
       "</table>\n",
       "</div>"
      ],
      "text/plain": [
       "   gameID  playerID  goals  ownGoals  shots  xGoals  xGoalsChain  \\\n",
       "0      81       560      0         0      0     0.0     0.000000   \n",
       "1      81       557      0         0      0     0.0     0.106513   \n",
       "\n",
       "   xGoalsBuildup  assists  keyPasses  xAssists position  positionOrder  \\\n",
       "0       0.000000        0          0  0.000000       GK              1   \n",
       "1       0.106513        0          1  0.106513       DR              2   \n",
       "\n",
       "   yellowCard  redCard  time  substituteIn  substituteOut  leagueID  \n",
       "0           0        0    90             0              0         1  \n",
       "1           0        0    82        222605              0         1  "
      ]
     },
     "execution_count": 18,
     "metadata": {},
     "output_type": "execute_result"
    }
   ],
   "source": [
    "appearances.head(2)"
   ]
  },
  {
   "cell_type": "code",
   "execution_count": 19,
   "id": "6dae5226-817a-4f37-9a1c-0fbf8ae120b3",
   "metadata": {},
   "outputs": [
    {
     "name": "stdout",
     "output_type": "stream",
     "text": [
      "<class 'pandas.core.frame.DataFrame'>\n",
      "RangeIndex: 356513 entries, 0 to 356512\n",
      "Data columns (total 19 columns):\n",
      " #   Column         Non-Null Count   Dtype  \n",
      "---  ------         --------------   -----  \n",
      " 0   gameID         356513 non-null  int64  \n",
      " 1   playerID       356513 non-null  int64  \n",
      " 2   goals          356513 non-null  int64  \n",
      " 3   ownGoals       356513 non-null  int64  \n",
      " 4   shots          356513 non-null  int64  \n",
      " 5   xGoals         356513 non-null  float64\n",
      " 6   xGoalsChain    356513 non-null  float64\n",
      " 7   xGoalsBuildup  356513 non-null  float64\n",
      " 8   assists        356513 non-null  int64  \n",
      " 9   keyPasses      356513 non-null  int64  \n",
      " 10  xAssists       356513 non-null  float64\n",
      " 11  position       356513 non-null  object \n",
      " 12  positionOrder  356513 non-null  int64  \n",
      " 13  yellowCard     356513 non-null  int64  \n",
      " 14  redCard        356513 non-null  int64  \n",
      " 15  time           356513 non-null  int64  \n",
      " 16  substituteIn   356513 non-null  int64  \n",
      " 17  substituteOut  356513 non-null  int64  \n",
      " 18  leagueID       356513 non-null  int64  \n",
      "dtypes: float64(4), int64(14), object(1)\n",
      "memory usage: 51.7+ MB\n"
     ]
    }
   ],
   "source": [
    "appearances.info()"
   ]
  },
  {
   "cell_type": "code",
   "execution_count": 20,
   "id": "f15e0a5d-d300-438a-b443-569b9e472b35",
   "metadata": {},
   "outputs": [
    {
     "data": {
      "text/html": [
       "<div>\n",
       "<style scoped>\n",
       "    .dataframe tbody tr th:only-of-type {\n",
       "        vertical-align: middle;\n",
       "    }\n",
       "\n",
       "    .dataframe tbody tr th {\n",
       "        vertical-align: top;\n",
       "    }\n",
       "\n",
       "    .dataframe thead th {\n",
       "        text-align: right;\n",
       "    }\n",
       "</style>\n",
       "<table border=\"1\" class=\"dataframe\">\n",
       "  <thead>\n",
       "    <tr style=\"text-align: right;\">\n",
       "      <th></th>\n",
       "      <th>gameID</th>\n",
       "      <th>playerID</th>\n",
       "      <th>goals</th>\n",
       "      <th>ownGoals</th>\n",
       "      <th>shots</th>\n",
       "      <th>xGoals</th>\n",
       "      <th>xGoalsChain</th>\n",
       "      <th>xGoalsBuildup</th>\n",
       "      <th>assists</th>\n",
       "      <th>keyPasses</th>\n",
       "      <th>xAssists</th>\n",
       "      <th>position</th>\n",
       "      <th>positionOrder</th>\n",
       "      <th>yellowCard</th>\n",
       "      <th>redCard</th>\n",
       "      <th>time</th>\n",
       "      <th>substituteIn</th>\n",
       "      <th>substituteOut</th>\n",
       "      <th>leagueID</th>\n",
       "    </tr>\n",
       "  </thead>\n",
       "  <tbody>\n",
       "  </tbody>\n",
       "</table>\n",
       "</div>"
      ],
      "text/plain": [
       "Empty DataFrame\n",
       "Columns: [gameID, playerID, goals, ownGoals, shots, xGoals, xGoalsChain, xGoalsBuildup, assists, keyPasses, xAssists, position, positionOrder, yellowCard, redCard, time, substituteIn, substituteOut, leagueID]\n",
       "Index: []"
      ]
     },
     "execution_count": 20,
     "metadata": {},
     "output_type": "execute_result"
    }
   ],
   "source": [
    "appearances[appearances.duplicated(subset=['gameID', 'playerID'])]"
   ]
  },
  {
   "cell_type": "markdown",
   "id": "479650f2-2cea-424f-a373-ad150a709bb5",
   "metadata": {
    "tags": []
   },
   "source": [
    "## Teamstats"
   ]
  },
  {
   "cell_type": "code",
   "execution_count": 21,
   "id": "5d51fddf-be9b-4671-ab13-584b44ad75d9",
   "metadata": {},
   "outputs": [
    {
     "data": {
      "text/html": [
       "<div>\n",
       "<style scoped>\n",
       "    .dataframe tbody tr th:only-of-type {\n",
       "        vertical-align: middle;\n",
       "    }\n",
       "\n",
       "    .dataframe tbody tr th {\n",
       "        vertical-align: top;\n",
       "    }\n",
       "\n",
       "    .dataframe thead th {\n",
       "        text-align: right;\n",
       "    }\n",
       "</style>\n",
       "<table border=\"1\" class=\"dataframe\">\n",
       "  <thead>\n",
       "    <tr style=\"text-align: right;\">\n",
       "      <th></th>\n",
       "      <th>gameID</th>\n",
       "      <th>teamID</th>\n",
       "      <th>season</th>\n",
       "      <th>date</th>\n",
       "      <th>location</th>\n",
       "      <th>goals</th>\n",
       "      <th>xGoals</th>\n",
       "      <th>shots</th>\n",
       "      <th>shotsOnTarget</th>\n",
       "      <th>deep</th>\n",
       "      <th>ppda</th>\n",
       "      <th>fouls</th>\n",
       "      <th>corners</th>\n",
       "      <th>yellowCards</th>\n",
       "      <th>redCards</th>\n",
       "      <th>result</th>\n",
       "    </tr>\n",
       "  </thead>\n",
       "  <tbody>\n",
       "    <tr>\n",
       "      <th>0</th>\n",
       "      <td>81</td>\n",
       "      <td>89</td>\n",
       "      <td>2015</td>\n",
       "      <td>2015-08-08 15:45:00</td>\n",
       "      <td>h</td>\n",
       "      <td>1</td>\n",
       "      <td>0.627539</td>\n",
       "      <td>9</td>\n",
       "      <td>1</td>\n",
       "      <td>4</td>\n",
       "      <td>13.8261</td>\n",
       "      <td>12</td>\n",
       "      <td>1</td>\n",
       "      <td>2.0</td>\n",
       "      <td>0</td>\n",
       "      <td>W</td>\n",
       "    </tr>\n",
       "    <tr>\n",
       "      <th>1</th>\n",
       "      <td>81</td>\n",
       "      <td>82</td>\n",
       "      <td>2015</td>\n",
       "      <td>2015-08-08 15:45:00</td>\n",
       "      <td>a</td>\n",
       "      <td>0</td>\n",
       "      <td>0.674600</td>\n",
       "      <td>9</td>\n",
       "      <td>4</td>\n",
       "      <td>10</td>\n",
       "      <td>8.2188</td>\n",
       "      <td>12</td>\n",
       "      <td>2</td>\n",
       "      <td>3.0</td>\n",
       "      <td>0</td>\n",
       "      <td>L</td>\n",
       "    </tr>\n",
       "  </tbody>\n",
       "</table>\n",
       "</div>"
      ],
      "text/plain": [
       "   gameID  teamID  season                 date location  goals    xGoals  \\\n",
       "0      81      89    2015  2015-08-08 15:45:00        h      1  0.627539   \n",
       "1      81      82    2015  2015-08-08 15:45:00        a      0  0.674600   \n",
       "\n",
       "   shots  shotsOnTarget  deep     ppda  fouls  corners  yellowCards  redCards  \\\n",
       "0      9              1     4  13.8261     12        1          2.0         0   \n",
       "1      9              4    10   8.2188     12        2          3.0         0   \n",
       "\n",
       "  result  \n",
       "0      W  \n",
       "1      L  "
      ]
     },
     "execution_count": 21,
     "metadata": {},
     "output_type": "execute_result"
    }
   ],
   "source": [
    "teamstats.head(2)"
   ]
  },
  {
   "cell_type": "code",
   "execution_count": 22,
   "id": "9a707ce9-9bd9-41a5-9668-a8eb3ca18286",
   "metadata": {},
   "outputs": [
    {
     "name": "stdout",
     "output_type": "stream",
     "text": [
      "<class 'pandas.core.frame.DataFrame'>\n",
      "RangeIndex: 25360 entries, 0 to 25359\n",
      "Data columns (total 16 columns):\n",
      " #   Column         Non-Null Count  Dtype  \n",
      "---  ------         --------------  -----  \n",
      " 0   gameID         25360 non-null  int64  \n",
      " 1   teamID         25360 non-null  int64  \n",
      " 2   season         25360 non-null  int64  \n",
      " 3   date           25360 non-null  object \n",
      " 4   location       25360 non-null  object \n",
      " 5   goals          25360 non-null  int64  \n",
      " 6   xGoals         25360 non-null  float64\n",
      " 7   shots          25360 non-null  int64  \n",
      " 8   shotsOnTarget  25360 non-null  int64  \n",
      " 9   deep           25360 non-null  int64  \n",
      " 10  ppda           25360 non-null  float64\n",
      " 11  fouls          25360 non-null  int64  \n",
      " 12  corners        25360 non-null  int64  \n",
      " 13  yellowCards    25359 non-null  float64\n",
      " 14  redCards       25360 non-null  int64  \n",
      " 15  result         25360 non-null  object \n",
      "dtypes: float64(3), int64(10), object(3)\n",
      "memory usage: 3.1+ MB\n"
     ]
    }
   ],
   "source": [
    "teamstats.info()"
   ]
  },
  {
   "cell_type": "code",
   "execution_count": 23,
   "id": "ea57c06b-c2ea-461e-9cfe-0c538abcae0d",
   "metadata": {},
   "outputs": [
    {
     "data": {
      "text/html": [
       "<div>\n",
       "<style scoped>\n",
       "    .dataframe tbody tr th:only-of-type {\n",
       "        vertical-align: middle;\n",
       "    }\n",
       "\n",
       "    .dataframe tbody tr th {\n",
       "        vertical-align: top;\n",
       "    }\n",
       "\n",
       "    .dataframe thead th {\n",
       "        text-align: right;\n",
       "    }\n",
       "</style>\n",
       "<table border=\"1\" class=\"dataframe\">\n",
       "  <thead>\n",
       "    <tr style=\"text-align: right;\">\n",
       "      <th></th>\n",
       "      <th>gameID</th>\n",
       "      <th>teamID</th>\n",
       "      <th>season</th>\n",
       "      <th>date</th>\n",
       "      <th>location</th>\n",
       "      <th>goals</th>\n",
       "      <th>xGoals</th>\n",
       "      <th>shots</th>\n",
       "      <th>shotsOnTarget</th>\n",
       "      <th>deep</th>\n",
       "      <th>ppda</th>\n",
       "      <th>fouls</th>\n",
       "      <th>corners</th>\n",
       "      <th>yellowCards</th>\n",
       "      <th>redCards</th>\n",
       "      <th>result</th>\n",
       "    </tr>\n",
       "  </thead>\n",
       "  <tbody>\n",
       "    <tr>\n",
       "      <th>8280</th>\n",
       "      <td>4888</td>\n",
       "      <td>95</td>\n",
       "      <td>2014</td>\n",
       "      <td>2015-03-02 19:45:00</td>\n",
       "      <td>h</td>\n",
       "      <td>1</td>\n",
       "      <td>0.355629</td>\n",
       "      <td>8</td>\n",
       "      <td>3</td>\n",
       "      <td>2</td>\n",
       "      <td>8.1923</td>\n",
       "      <td>11</td>\n",
       "      <td>1</td>\n",
       "      <td>NaN</td>\n",
       "      <td>1</td>\n",
       "      <td>D</td>\n",
       "    </tr>\n",
       "  </tbody>\n",
       "</table>\n",
       "</div>"
      ],
      "text/plain": [
       "      gameID  teamID  season                 date location  goals    xGoals  \\\n",
       "8280    4888      95    2014  2015-03-02 19:45:00        h      1  0.355629   \n",
       "\n",
       "      shots  shotsOnTarget  deep    ppda  fouls  corners  yellowCards  \\\n",
       "8280      8              3     2  8.1923     11        1          NaN   \n",
       "\n",
       "      redCards result  \n",
       "8280         1      D  "
      ]
     },
     "execution_count": 23,
     "metadata": {},
     "output_type": "execute_result"
    }
   ],
   "source": [
    "teamstats[teamstats.yellowCards.isnull()]"
   ]
  },
  {
   "cell_type": "code",
   "execution_count": 24,
   "id": "c54dab57-7ea1-4bb2-accb-63fc44ae97c0",
   "metadata": {},
   "outputs": [
    {
     "data": {
      "text/html": [
       "<div>\n",
       "<style scoped>\n",
       "    .dataframe tbody tr th:only-of-type {\n",
       "        vertical-align: middle;\n",
       "    }\n",
       "\n",
       "    .dataframe tbody tr th {\n",
       "        vertical-align: top;\n",
       "    }\n",
       "\n",
       "    .dataframe thead th {\n",
       "        text-align: right;\n",
       "    }\n",
       "</style>\n",
       "<table border=\"1\" class=\"dataframe\">\n",
       "  <thead>\n",
       "    <tr style=\"text-align: right;\">\n",
       "      <th></th>\n",
       "      <th>gameID</th>\n",
       "      <th>teamID</th>\n",
       "      <th>season</th>\n",
       "      <th>date</th>\n",
       "      <th>location</th>\n",
       "      <th>goals</th>\n",
       "      <th>xGoals</th>\n",
       "      <th>shots</th>\n",
       "      <th>shotsOnTarget</th>\n",
       "      <th>deep</th>\n",
       "      <th>ppda</th>\n",
       "      <th>fouls</th>\n",
       "      <th>corners</th>\n",
       "      <th>yellowCards</th>\n",
       "      <th>redCards</th>\n",
       "      <th>result</th>\n",
       "    </tr>\n",
       "  </thead>\n",
       "  <tbody>\n",
       "  </tbody>\n",
       "</table>\n",
       "</div>"
      ],
      "text/plain": [
       "Empty DataFrame\n",
       "Columns: [gameID, teamID, season, date, location, goals, xGoals, shots, shotsOnTarget, deep, ppda, fouls, corners, yellowCards, redCards, result]\n",
       "Index: []"
      ]
     },
     "execution_count": 24,
     "metadata": {},
     "output_type": "execute_result"
    }
   ],
   "source": [
    "teamstats[teamstats.duplicated(subset=['gameID', 'teamID'])]"
   ]
  }
 ],
 "metadata": {
  "kernelspec": {
   "display_name": "Python 3 (ipykernel)",
   "language": "python",
   "name": "python3"
  },
  "language_info": {
   "codemirror_mode": {
    "name": "ipython",
    "version": 3
   },
   "file_extension": ".py",
   "mimetype": "text/x-python",
   "name": "python",
   "nbconvert_exporter": "python",
   "pygments_lexer": "ipython3",
   "version": "3.9.6"
  }
 },
 "nbformat": 4,
 "nbformat_minor": 5
}

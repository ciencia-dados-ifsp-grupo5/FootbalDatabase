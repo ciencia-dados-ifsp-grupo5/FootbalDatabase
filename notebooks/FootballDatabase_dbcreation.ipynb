{
 "cells": [
  {
   "cell_type": "code",
   "execution_count": 1,
   "id": "996c6e66-84c6-44c4-9203-c6fd6d272698",
   "metadata": {},
   "outputs": [
    {
     "name": "stdout",
     "output_type": "stream",
     "text": [
      "Requirement already satisfied: mysql-connector-python in /opt/conda/lib/python3.9/site-packages (8.0.26)\n",
      "Requirement already satisfied: protobuf>=3.0.0 in /opt/conda/lib/python3.9/site-packages (from mysql-connector-python) (3.17.2)\n",
      "Requirement already satisfied: six>=1.9 in /opt/conda/lib/python3.9/site-packages (from protobuf>=3.0.0->mysql-connector-python) (1.16.0)\n"
     ]
    }
   ],
   "source": [
    "!pip install mysql-connector-python"
   ]
  },
  {
   "cell_type": "code",
   "execution_count": 2,
   "id": "e624495d-e966-4df8-9a5e-73490f96ff08",
   "metadata": {},
   "outputs": [
    {
     "name": "stdout",
     "output_type": "stream",
     "text": [
      "Requirement already satisfied: python-dotenv in /opt/conda/lib/python3.9/site-packages (0.19.0)\n"
     ]
    }
   ],
   "source": [
    "!pip install python-dotenv"
   ]
  },
  {
   "cell_type": "code",
   "execution_count": 3,
   "id": "5ec5ffaf-98d5-4a72-8f59-74cd9fd9951f",
   "metadata": {},
   "outputs": [],
   "source": [
    "import os\n",
    "import mysql.connector\n",
    "from mysql.connector import errorcode\n",
    "from dotenv import load_dotenv\n",
    "\n",
    "load_dotenv()\n",
    "\n",
    "DB_CONFIG = {\n",
    "    'user': os.getenv('DB_USER'),\n",
    "    'password': os.getenv('DB_PASS'),\n",
    "    'host': os.getenv('DB_HOST'),\n",
    "    'allow_local_infile': True,\n",
    "#     'raise_on_warnings': True\n",
    "}\n",
    "\n",
    "\n",
    "DB_NAME = 'football'\n",
    "SCHEMA_PATH = '../assets/FootballDatabase.schema.sql'\n",
    "DATA_PATH = '../data/'"
   ]
  },
  {
   "cell_type": "code",
   "execution_count": 4,
   "id": "f2eaf938-e8a9-4c26-86da-b463a6b9e86e",
   "metadata": {},
   "outputs": [],
   "source": [
    "def mysql_connect(config):\n",
    "    try:\n",
    "        cnx = mysql.connector.connect(**config)\n",
    "    except mysql.connector.Error as err:\n",
    "        if err.errno == errorcode.ER_ACCESS_DENIED_ERROR:\n",
    "            print(f'[CONNECTION ERROR] Invalid credentials: {err}')\n",
    "        elif err.errno == errorcode.ER_BAD_DB_ERROR:\n",
    "            print(f'[CONNECTION ERROR] Database does not exist: {err}')\n",
    "        else:\n",
    "            print(f'[CONNECTION ERROR] {err}')\n",
    "        return (None, None)\n",
    "    else:\n",
    "        cursor = cnx.cursor()\n",
    "        return (cnx, cursor)\n",
    "    \n",
    "def mysql_close_connection(cnx):\n",
    "    try:\n",
    "        cnx.close()\n",
    "    except mysql.connector.Error as err:\n",
    "        print(f'[CLOSECONNECTION ERROR] Failes closing connection to mysql: {err}')\n",
    "        raise"
   ]
  },
  {
   "cell_type": "code",
   "execution_count": 5,
   "id": "bd850946-4f63-431e-a824-a0777238f5b5",
   "metadata": {},
   "outputs": [],
   "source": [
    "def create_database(cursor, dbname):\n",
    "    try:\n",
    "        cursor.execute(f'DROP DATABASE IF EXISTS {dbname}')\n",
    "        cursor.execute(f'CREATE DATABASE {dbname} DEFAULT CHARACTER SET \"UTF8MB4\"')\n",
    "    except mysql.connector.Error as err:\n",
    "        print(f'[CREATEDB ERROR] Failed creating database {dbname}: {err}')\n",
    "        raise"
   ]
  },
  {
   "cell_type": "code",
   "execution_count": 6,
   "id": "08bf0b0c-6541-4ba7-9152-e20fc51703e6",
   "metadata": {},
   "outputs": [],
   "source": [
    "import re\n",
    "\n",
    "def tables_from_schema(schema_path):\n",
    "    with open(schema_path, 'r') as schema_file:\n",
    "        schema = schema_file.read()\n",
    "    \n",
    "        # Split each `CREATE TABLE ...` in schema as an element of create_table array\n",
    "        create_table = re.split('(?<!^)\\s+(?=(CREATE))', schema)[::2]\n",
    "    \n",
    "        # Creata a dictionary with table name as key and create table script as value\n",
    "        # ==> table['league'] = 'CREATE TABLE `league` ( ...'\n",
    "        tables = {re.search(r'(?<=`)\\w+', table)[0]: table for table in create_table}\n",
    "    \n",
    "        schema_file.close()\n",
    "        return tables"
   ]
  },
  {
   "cell_type": "code",
   "execution_count": 7,
   "id": "04822a20-b08a-48db-b704-a811446483c7",
   "metadata": {},
   "outputs": [],
   "source": [
    "def create_schema(cnx, cursor, dbname, schema):\n",
    "    try:\n",
    "        cursor.execute(f'USE {dbname}')\n",
    "        print(f'Using database {dbname}')\n",
    "    except mysql.connector.Error as err:\n",
    "        print(f'Database {dbname} does not exists')\n",
    "        if err.errno == errorcode.ER_BAD_DB_ERROR:\n",
    "            create_database(cursor, dbname)\n",
    "            print(f'Database {dbname} created successfully')\n",
    "            cnx.database = dbname\n",
    "        else:\n",
    "            print(f'[CREATE SCHEMA ERROR] Failed creating schema: {err}')\n",
    "            raise\n",
    "    \n",
    "    tables = tables_from_schema(schema)\n",
    "    for table_name in tables:\n",
    "        table_description = tables[table_name]\n",
    "        try:\n",
    "            print(f'Creating table {table_name}: ', end='')\n",
    "            cursor.execute('SET FOREIGN_KEY_CHECKS=0')\n",
    "            cursor.execute(f'DROP TABLE IF EXISTS {table_name}')\n",
    "            cursor.execute('SET FOREIGN_KEY_CHECKS=1')\n",
    "            cursor.execute(table_description)\n",
    "        except mysql.connector.Error as err:\n",
    "            print(f'[CREATE TABLE ERROR] Failed creating table: {err}')\n",
    "            raise\n",
    "        else:\n",
    "            print('OK')\n",
    "            \n",
    "    return tables"
   ]
  },
  {
   "cell_type": "code",
   "execution_count": 8,
   "id": "de649e04-efa3-4dd9-a8fd-92ba580d8f65",
   "metadata": {},
   "outputs": [],
   "source": [
    "import os\n",
    "\n",
    "def load_data(cnx, cursor, dbname, tables, data_folder):\n",
    "    cnx.raise_on_warnings = True\n",
    "    cursor.execute(f'USE {dbname}')\n",
    "    for table_name in tables:\n",
    "        print(f'Loading data in table {table_name}')\n",
    "        cursor.execute(\n",
    "            f'''\n",
    "            LOAD DATA LOCAL INFILE \"{data_folder}/{table_name}s.csv\"\n",
    "            INTO TABLE {table_name}\n",
    "            FIELDS TERMINATED BY ',' \n",
    "            ENCLOSED BY '\"'\n",
    "            LINES TERMINATED BY '\\n'\n",
    "            IGNORE 1 ROWS;\n",
    "            '''\n",
    "        )\n",
    "        cnx.commit()"
   ]
  },
  {
   "cell_type": "code",
   "execution_count": 9,
   "id": "46bc52c0-0d6b-40e4-80b0-ecee8a9f95fb",
   "metadata": {},
   "outputs": [
    {
     "name": "stdout",
     "output_type": "stream",
     "text": [
      "Using database football\n",
      "Creating table player: OK\n",
      "Creating table team: OK\n",
      "Creating table league: OK\n",
      "Creating table game: OK\n",
      "Creating table appearance: OK\n",
      "Creating table teamstat: OK\n",
      "Creating table shot: OK\n",
      "Loading data in table player\n",
      "Loading data in table team\n",
      "Loading data in table league\n",
      "Loading data in table game\n"
     ]
    },
    {
     "ename": "DatabaseError",
     "evalue": "1265: Data truncated for column 'BWH' at row 159",
     "output_type": "error",
     "traceback": [
      "\u001b[0;31m---------------------------------------------------------------------------\u001b[0m",
      "\u001b[0;31mDatabaseError\u001b[0m                             Traceback (most recent call last)",
      "\u001b[0;32m/tmp/ipykernel_1063/2745199025.py\u001b[0m in \u001b[0;36m<module>\u001b[0;34m\u001b[0m\n\u001b[1;32m      2\u001b[0m \u001b[0mtables\u001b[0m \u001b[0;34m=\u001b[0m \u001b[0mcreate_schema\u001b[0m\u001b[0;34m(\u001b[0m\u001b[0mcnx\u001b[0m\u001b[0;34m,\u001b[0m \u001b[0mcursor\u001b[0m\u001b[0;34m,\u001b[0m \u001b[0mDB_NAME\u001b[0m\u001b[0;34m,\u001b[0m \u001b[0mSCHEMA_PATH\u001b[0m\u001b[0;34m)\u001b[0m\u001b[0;34m\u001b[0m\u001b[0;34m\u001b[0m\u001b[0m\n\u001b[1;32m      3\u001b[0m \u001b[0;34m\u001b[0m\u001b[0m\n\u001b[0;32m----> 4\u001b[0;31m \u001b[0mload_data\u001b[0m\u001b[0;34m(\u001b[0m\u001b[0mcnx\u001b[0m\u001b[0;34m,\u001b[0m \u001b[0mcursor\u001b[0m\u001b[0;34m,\u001b[0m \u001b[0mDB_NAME\u001b[0m\u001b[0;34m,\u001b[0m \u001b[0mtables\u001b[0m\u001b[0;34m,\u001b[0m \u001b[0mDATA_PATH\u001b[0m\u001b[0;34m)\u001b[0m\u001b[0;34m\u001b[0m\u001b[0;34m\u001b[0m\u001b[0m\n\u001b[0m\u001b[1;32m      5\u001b[0m \u001b[0;34m\u001b[0m\u001b[0m\n\u001b[1;32m      6\u001b[0m \u001b[0mmysql_close_connection\u001b[0m\u001b[0;34m(\u001b[0m\u001b[0mcnx\u001b[0m\u001b[0;34m)\u001b[0m\u001b[0;34m\u001b[0m\u001b[0;34m\u001b[0m\u001b[0m\n",
      "\u001b[0;32m/tmp/ipykernel_1063/1628721533.py\u001b[0m in \u001b[0;36mload_data\u001b[0;34m(cnx, cursor, dbname, tables, data_folder)\u001b[0m\n\u001b[1;32m      6\u001b[0m     \u001b[0;32mfor\u001b[0m \u001b[0mtable_name\u001b[0m \u001b[0;32min\u001b[0m \u001b[0mtables\u001b[0m\u001b[0;34m:\u001b[0m\u001b[0;34m\u001b[0m\u001b[0;34m\u001b[0m\u001b[0m\n\u001b[1;32m      7\u001b[0m         \u001b[0mprint\u001b[0m\u001b[0;34m(\u001b[0m\u001b[0;34mf'Loading data in table {table_name}'\u001b[0m\u001b[0;34m)\u001b[0m\u001b[0;34m\u001b[0m\u001b[0;34m\u001b[0m\u001b[0m\n\u001b[0;32m----> 8\u001b[0;31m         cursor.execute(\n\u001b[0m\u001b[1;32m      9\u001b[0m             f'''\n\u001b[1;32m     10\u001b[0m             \u001b[0mLOAD\u001b[0m \u001b[0mDATA\u001b[0m \u001b[0mLOCAL\u001b[0m \u001b[0mINFILE\u001b[0m \u001b[0;34m\"{data_folder}/{table_name}s.csv\"\u001b[0m\u001b[0;34m\u001b[0m\u001b[0;34m\u001b[0m\u001b[0m\n",
      "\u001b[0;32m/opt/conda/lib/python3.9/site-packages/mysql/connector/cursor_cext.py\u001b[0m in \u001b[0;36mexecute\u001b[0;34m(self, operation, params, multi)\u001b[0m\n\u001b[1;32m    275\u001b[0m \u001b[0;34m\u001b[0m\u001b[0m\n\u001b[1;32m    276\u001b[0m         \u001b[0mself\u001b[0m\u001b[0;34m.\u001b[0m\u001b[0m_executed\u001b[0m \u001b[0;34m=\u001b[0m \u001b[0mstmt\u001b[0m\u001b[0;34m\u001b[0m\u001b[0;34m\u001b[0m\u001b[0m\n\u001b[0;32m--> 277\u001b[0;31m         \u001b[0mself\u001b[0m\u001b[0;34m.\u001b[0m\u001b[0m_handle_result\u001b[0m\u001b[0;34m(\u001b[0m\u001b[0mresult\u001b[0m\u001b[0;34m)\u001b[0m\u001b[0;34m\u001b[0m\u001b[0;34m\u001b[0m\u001b[0m\n\u001b[0m\u001b[1;32m    278\u001b[0m \u001b[0;34m\u001b[0m\u001b[0m\n\u001b[1;32m    279\u001b[0m         \u001b[0;32mif\u001b[0m \u001b[0mmulti\u001b[0m\u001b[0;34m:\u001b[0m\u001b[0;34m\u001b[0m\u001b[0;34m\u001b[0m\u001b[0m\n",
      "\u001b[0;32m/opt/conda/lib/python3.9/site-packages/mysql/connector/cursor_cext.py\u001b[0m in \u001b[0;36m_handle_result\u001b[0;34m(self, result)\u001b[0m\n\u001b[1;32m    178\u001b[0m             \u001b[0mself\u001b[0m\u001b[0;34m.\u001b[0m\u001b[0m_handle_warnings\u001b[0m\u001b[0;34m(\u001b[0m\u001b[0;34m)\u001b[0m\u001b[0;34m\u001b[0m\u001b[0;34m\u001b[0m\u001b[0m\n\u001b[1;32m    179\u001b[0m             \u001b[0;32mif\u001b[0m \u001b[0mself\u001b[0m\u001b[0;34m.\u001b[0m\u001b[0m_cnx\u001b[0m\u001b[0;34m.\u001b[0m\u001b[0mraise_on_warnings\u001b[0m \u001b[0;32mis\u001b[0m \u001b[0;32mTrue\u001b[0m \u001b[0;32mand\u001b[0m \u001b[0mself\u001b[0m\u001b[0;34m.\u001b[0m\u001b[0m_warnings\u001b[0m\u001b[0;34m:\u001b[0m\u001b[0;34m\u001b[0m\u001b[0;34m\u001b[0m\u001b[0m\n\u001b[0;32m--> 180\u001b[0;31m                 \u001b[0;32mraise\u001b[0m \u001b[0merrors\u001b[0m\u001b[0;34m.\u001b[0m\u001b[0mget_mysql_exception\u001b[0m\u001b[0;34m(\u001b[0m\u001b[0;34m*\u001b[0m\u001b[0mself\u001b[0m\u001b[0;34m.\u001b[0m\u001b[0m_warnings\u001b[0m\u001b[0;34m[\u001b[0m\u001b[0;36m0\u001b[0m\u001b[0;34m]\u001b[0m\u001b[0;34m[\u001b[0m\u001b[0;36m1\u001b[0m\u001b[0;34m:\u001b[0m\u001b[0;36m3\u001b[0m\u001b[0;34m]\u001b[0m\u001b[0;34m)\u001b[0m\u001b[0;34m\u001b[0m\u001b[0;34m\u001b[0m\u001b[0m\n\u001b[0m\u001b[1;32m    181\u001b[0m \u001b[0;34m\u001b[0m\u001b[0m\n\u001b[1;32m    182\u001b[0m     \u001b[0;32mdef\u001b[0m \u001b[0m_handle_resultset\u001b[0m\u001b[0;34m(\u001b[0m\u001b[0mself\u001b[0m\u001b[0;34m)\u001b[0m\u001b[0;34m:\u001b[0m\u001b[0;34m\u001b[0m\u001b[0;34m\u001b[0m\u001b[0m\n",
      "\u001b[0;31mDatabaseError\u001b[0m: 1265: Data truncated for column 'BWH' at row 159"
     ]
    }
   ],
   "source": [
    "(cnx, cursor) = mysql_connect(DB_CONFIG)\n",
    "tables = create_schema(cnx, cursor, DB_NAME, SCHEMA_PATH)\n",
    "\n",
    "load_data(cnx, cursor, DB_NAME, tables, DATA_PATH)\n",
    "\n",
    "mysql_close_connection(cnx)"
   ]
  }
 ],
 "metadata": {
  "kernelspec": {
   "display_name": "Python 3 (ipykernel)",
   "language": "python",
   "name": "python3"
  },
  "language_info": {
   "codemirror_mode": {
    "name": "ipython",
    "version": 3
   },
   "file_extension": ".py",
   "mimetype": "text/x-python",
   "name": "python",
   "nbconvert_exporter": "python",
   "pygments_lexer": "ipython3",
   "version": "3.9.6"
  }
 },
 "nbformat": 4,
 "nbformat_minor": 5
}

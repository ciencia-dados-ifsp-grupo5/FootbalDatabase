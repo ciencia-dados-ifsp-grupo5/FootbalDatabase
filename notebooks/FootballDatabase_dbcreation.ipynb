{
 "cells": [
  {
   "cell_type": "markdown",
   "id": "5c62320e-f77e-4328-b9f4-da80fd0d16ba",
   "metadata": {},
   "source": [
    "## 0. Database config"
   ]
  },
  {
   "cell_type": "code",
   "execution_count": 1,
   "id": "fc931860-e0c5-44b3-81e4-f594927f7992",
   "metadata": {},
   "outputs": [],
   "source": [
    "DB_NAME = 'football'\n",
    "SCHEMA_PATH = '../assets/FootballDatabase.schema.sql'\n",
    "DATA_PATH = '../data/'"
   ]
  },
  {
   "cell_type": "markdown",
   "id": "0af70fa1-a494-49ad-aa0b-4e7b21bf10cd",
   "metadata": {
    "tags": []
   },
   "source": [
    "## 1. Required dependencies"
   ]
  },
  {
   "cell_type": "code",
   "execution_count": 2,
   "id": "e65a9c23-c649-4b4a-aec7-65cff957ef04",
   "metadata": {},
   "outputs": [
    {
     "name": "stdout",
     "output_type": "stream",
     "text": [
      "Requirement already satisfied: mysql-connector-python in /opt/conda/lib/python3.9/site-packages (8.0.26)\n",
      "Requirement already satisfied: python-dotenv in /opt/conda/lib/python3.9/site-packages (0.19.0)\n",
      "Requirement already satisfied: protobuf>=3.0.0 in /opt/conda/lib/python3.9/site-packages (from mysql-connector-python) (3.17.2)\n",
      "Requirement already satisfied: six>=1.9 in /opt/conda/lib/python3.9/site-packages (from protobuf>=3.0.0->mysql-connector-python) (1.16.0)\n"
     ]
    }
   ],
   "source": [
    "!pip install mysql-connector-python python-dotenv"
   ]
  },
  {
   "cell_type": "markdown",
   "id": "15508f53-13be-44d3-a321-448975ac4e0c",
   "metadata": {},
   "source": [
    "## 2. Imports and config loading"
   ]
  },
  {
   "cell_type": "code",
   "execution_count": 3,
   "id": "5ec5ffaf-98d5-4a72-8f59-74cd9fd9951f",
   "metadata": {},
   "outputs": [],
   "source": [
    "import os\n",
    "from dotenv import load_dotenv\n",
    "\n",
    "import mysql.connector\n",
    "from mysql.connector import errorcode\n",
    "\n",
    "# Load config values from .env file\n",
    "load_dotenv()\n",
    "\n",
    "DB_CONFIG = {\n",
    "    'user': os.getenv('DB_USER'),\n",
    "    'password': os.getenv('DB_PASS'),\n",
    "    'host': os.getenv('DB_HOST'),\n",
    "    'allow_local_infile': True,\n",
    "    'raise_on_warnings': True\n",
    "}"
   ]
  },
  {
   "cell_type": "markdown",
   "id": "53a36299-0db6-4fde-91a4-c80ef3c0715b",
   "metadata": {},
   "source": [
    "## 3. Auxiliary functions"
   ]
  },
  {
   "cell_type": "markdown",
   "id": "72d175f7-7ce6-4cc7-b90e-70e81f9e6bb3",
   "metadata": {},
   "source": [
    "### 3.1. Mysql connection"
   ]
  },
  {
   "cell_type": "code",
   "execution_count": 4,
   "id": "acd0b372-1fb5-4311-90f3-3a4a8e7a601e",
   "metadata": {},
   "outputs": [],
   "source": [
    "def mysql_connect(config):\n",
    "\n",
    "    try:\n",
    "        cnx = mysql.connector.connect(**config)\n",
    "        return cnx\n",
    "\n",
    "    except mysql.connector.Error as err:\n",
    "        if err.errno == errorcode.ER_ACCESS_DENIED_ERROR:\n",
    "            print(f'[CONNERROR] Invalid credentials: {err}')\n",
    "            \n",
    "        elif err.errno == errorcode.ER_BAD_DB_ERROR:\n",
    "            print(f'[CONNERROR] Database does not exist: {err}')\n",
    "            \n",
    "        else:\n",
    "            print(f'[CONNERROR] {err}')\n",
    "            \n",
    "        return None"
   ]
  },
  {
   "cell_type": "markdown",
   "id": "7e267e54-de5c-4d52-a582-bbc81a641e07",
   "metadata": {},
   "source": [
    "### 3.2. Mysql close connection"
   ]
  },
  {
   "cell_type": "code",
   "execution_count": 5,
   "id": "090d3bb0-4285-47f5-a079-2d6782072a27",
   "metadata": {},
   "outputs": [],
   "source": [
    "def mysql_close_connection(cnx):\n",
    "    \n",
    "    try:\n",
    "        cnx.close()\n",
    "        \n",
    "    except mysql.connector.Error as err:\n",
    "        print(f'[CLOSEERROR] Failed closing connection to mysql: {err}')\n",
    "        raise"
   ]
  },
  {
   "cell_type": "markdown",
   "id": "41666e20-5062-4deb-ba8b-9634aa16b805",
   "metadata": {},
   "source": [
    "### 3.3. Database creation"
   ]
  },
  {
   "cell_type": "code",
   "execution_count": 6,
   "id": "bd850946-4f63-431e-a824-a0777238f5b5",
   "metadata": {},
   "outputs": [],
   "source": [
    "def create_database(cnx, dbname, charset='UTF8MB4'):\n",
    "    \n",
    "    try:\n",
    "        cursor = cnx.cursor()\n",
    "        cursor.execute('DROP DATABASE IF EXISTS %s', (dbname))\n",
    "        cursor.execute('CREATE DATABASE %s DEFAULT CHARACTER SET \"%s\"', (dbname, charset))\n",
    "        \n",
    "    except mysql.connector.Error as err:\n",
    "        print(f'[CREATEERROR] Failed creating database {dbname}: {err}')\n",
    "        raise"
   ]
  },
  {
   "cell_type": "markdown",
   "id": "9af3b4e1-7fe1-4dd2-a261-31e230c6386f",
   "metadata": {},
   "source": [
    "### 3.4. Tables creation"
   ]
  },
  {
   "cell_type": "code",
   "execution_count": 7,
   "id": "08bf0b0c-6541-4ba7-9152-e20fc51703e6",
   "metadata": {},
   "outputs": [],
   "source": [
    "import re\n",
    "\n",
    "def tables_from_schema(schema_path):\n",
    "    \n",
    "    with open(schema_path, 'r') as schema_file:\n",
    "        schema = schema_file.read()\n",
    "    \n",
    "        # Split each `CREATE TABLE ...` in schema as an element of create_table array\n",
    "        create_table = re.split('(?<!^)\\s+(?=(CREATE))', schema)[::2]\n",
    "    \n",
    "        # Creata a dictionary with table name as key and create table script as value\n",
    "        # ==> table['league'] = 'CREATE TABLE `league` ( ...'\n",
    "        tables = {re.search(r'(?<=`)\\w+', table)[0]: table for table in create_table}\n",
    "    \n",
    "        schema_file.close()\n",
    "        return tables"
   ]
  },
  {
   "cell_type": "code",
   "execution_count": 8,
   "id": "04822a20-b08a-48db-b704-a811446483c7",
   "metadata": {},
   "outputs": [],
   "source": [
    "def create_tables(cnx, dbname, schema):\n",
    "    \n",
    "    try:\n",
    "        cursor = cnx.cursor()\n",
    "        cursor.execute(f'USE {dbname}')\n",
    "        print(f'Using database {dbname}')\n",
    "        \n",
    "    except mysql.connector.Error as err:\n",
    "        print(f'Database {dbname} does not exists')\n",
    "\n",
    "        if err.errno == errorcode.ER_BAD_DB_ERROR:\n",
    "            create_database(cnx, dbname)\n",
    "            print(f'Database {dbname} created successfully')\n",
    "            cnx.database = dbname\n",
    "\n",
    "        else:\n",
    "            print(f'[TABLEERROR] Failed creating database: {err}')\n",
    "            raise\n",
    "    \n",
    "    tables = tables_from_schema(schema)\n",
    "    \n",
    "    for table_name, table_script in tables.items():\n",
    "        try:\n",
    "            print(f'Creating table {table_name}: ', end='')\n",
    "            cursor.execute('SET FOREIGN_KEY_CHECKS=0')\n",
    "            cursor.execute(f'DROP TABLE IF EXISTS {table_name}')\n",
    "            cursor.execute('SET FOREIGN_KEY_CHECKS=1')\n",
    "            cursor.execute(table_script)\n",
    "            \n",
    "        except mysql.connector.Error as err:\n",
    "            print(f'[TABLEERROR] Failed creating table {table_name}: {err}')\n",
    "            raise\n",
    "            \n",
    "        else:\n",
    "            print('OK')\n",
    "            \n",
    "    return tables"
   ]
  },
  {
   "cell_type": "markdown",
   "id": "72c7c9ba-9976-4eb9-b580-fca50377d3a9",
   "metadata": {},
   "source": [
    "### 3.5. Data load"
   ]
  },
  {
   "cell_type": "code",
   "execution_count": 9,
   "id": "de649e04-efa3-4dd9-a8fd-92ba580d8f65",
   "metadata": {},
   "outputs": [],
   "source": [
    "def load_data(cnx, dbname, tables, data_folder):\n",
    "    \n",
    "    cursor = cnx.cursor()\n",
    "    cursor.execute(f'USE {dbname}')\n",
    "\n",
    "    for table_name in tables:\n",
    "        try:\n",
    "            print(f'Loading data in table {table_name}: ', end='')\n",
    "            infile_path = os.path.realpath(f'{data_folder}/{table_name}s.csv')\n",
    "            outfile_path = os.path.realpath(f'{data_folder}/{table_name}s_out.csv')\n",
    "            \n",
    "            with open(infile_path, 'r') as infile, open(outfile_path, 'w') as outfile:\n",
    "                data = infile.read().replace('NA', r'\\N')\n",
    "                outfile.write(data)\n",
    "                \n",
    "            cursor.execute(f'''\n",
    "                LOAD DATA LOCAL INFILE '{outfile_path}'\n",
    "                INTO TABLE {table_name}\n",
    "                FIELDS TERMINATED BY ',' \n",
    "                ENCLOSED BY '\"'\n",
    "                LINES TERMINATED BY '\\n'\n",
    "                IGNORE 1 ROWS;'''\n",
    "            )\n",
    "            cnx.commit()\n",
    "            os.remove(outfile_path)\n",
    "            \n",
    "        except mysql.connector.Error as err:\n",
    "            print(f'[LOADERROR] Failed loading data on table {table_name}: {err}')\n",
    "            raise\n",
    "            \n",
    "        else:\n",
    "            print('OK')"
   ]
  },
  {
   "cell_type": "markdown",
   "id": "92c9e1d0-9a23-454c-a7b7-475d0544dad4",
   "metadata": {},
   "source": [
    "## 4. Executing"
   ]
  },
  {
   "cell_type": "code",
   "execution_count": 10,
   "id": "46bc52c0-0d6b-40e4-80b0-ecee8a9f95fb",
   "metadata": {},
   "outputs": [
    {
     "name": "stdout",
     "output_type": "stream",
     "text": [
      "Using database football\n",
      "Creating table player: OK\n",
      "Creating table team: OK\n",
      "Creating table league: OK\n",
      "Creating table game: OK\n",
      "Creating table appearance: OK\n",
      "Creating table teamstat: OK\n",
      "Creating table shot: OK\n",
      "CPU times: user 139 ms, sys: 16 ms, total: 155 ms\n",
      "Wall time: 7.65 s\n",
      "Loading data in table player: OK\n",
      "Loading data in table team: OK\n",
      "Loading data in table league: OK\n",
      "Loading data in table game: OK\n",
      "Loading data in table appearance: OK\n",
      "Loading data in table teamstat: OK\n",
      "Loading data in table shot: OK\n",
      "CPU times: user 3.88 s, sys: 1 s, total: 4.88 s\n",
      "Wall time: 38.2 s\n",
      "CPU times: user 4.23 s, sys: 1.02 s, total: 5.25 s\n",
      "Wall time: 47.4 s\n"
     ]
    }
   ],
   "source": [
    "%%time\n",
    "\n",
    "cnx = mysql_connect(DB_CONFIG)\n",
    "\n",
    "%time tables = create_tables(cnx, DB_NAME, SCHEMA_PATH)\n",
    "%time load_data(cnx, DB_NAME, tables, DATA_PATH)\n",
    "\n",
    "mysql_close_connection(cnx)"
   ]
  }
 ],
 "metadata": {
  "kernelspec": {
   "display_name": "Python 3 (ipykernel)",
   "language": "python",
   "name": "python3"
  },
  "language_info": {
   "codemirror_mode": {
    "name": "ipython",
    "version": 3
   },
   "file_extension": ".py",
   "mimetype": "text/x-python",
   "name": "python",
   "nbconvert_exporter": "python",
   "pygments_lexer": "ipython3",
   "version": "3.9.6"
  }
 },
 "nbformat": 4,
 "nbformat_minor": 5
}

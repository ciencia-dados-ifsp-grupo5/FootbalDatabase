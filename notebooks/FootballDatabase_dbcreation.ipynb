{
 "cells": [
  {
   "cell_type": "code",
   "execution_count": 1,
   "id": "de5fb34e-a7d4-407f-96e4-72f67de89eb6",
   "metadata": {},
   "outputs": [
    {
     "name": "stdout",
     "output_type": "stream",
     "text": [
      "Collecting mysql-connector-python\n",
      "  Downloading mysql_connector_python-8.0.26-cp39-cp39-manylinux1_x86_64.whl (30.9 MB)\n",
      "\u001b[K     |████████████████████████████████| 30.9 MB 10.5 MB/s eta 0:00:01\n",
      "\u001b[?25hCollecting python-dotenv\n",
      "  Downloading python_dotenv-0.19.0-py2.py3-none-any.whl (17 kB)\n",
      "Requirement already satisfied: protobuf>=3.0.0 in /opt/conda/lib/python3.9/site-packages (from mysql-connector-python) (3.17.2)\n",
      "Requirement already satisfied: six>=1.9 in /opt/conda/lib/python3.9/site-packages (from protobuf>=3.0.0->mysql-connector-python) (1.16.0)\n",
      "Installing collected packages: python-dotenv, mysql-connector-python\n",
      "Successfully installed mysql-connector-python-8.0.26 python-dotenv-0.19.0\n"
     ]
    }
   ],
   "source": [
    "!pip install mysql-connector-python python-dotenv"
   ]
  },
  {
   "cell_type": "code",
   "execution_count": 3,
   "id": "5ec5ffaf-98d5-4a72-8f59-74cd9fd9951f",
   "metadata": {},
   "outputs": [],
   "source": [
    "import os\n",
    "import mysql.connector\n",
    "from mysql.connector import errorcode\n",
    "from dotenv import load_dotenv\n",
    "\n",
    "load_dotenv()\n",
    "\n",
    "DB_CONFIG = {\n",
    "    'user': os.getenv('DB_USER'),\n",
    "    'password': os.getenv('DB_PASS'),\n",
    "    'host': os.getenv('DB_HOST'),\n",
    "    'allow_local_infile': True,\n",
    "#     'raise_on_warnings': True\n",
    "}\n",
    "\n",
    "\n",
    "DB_NAME = 'football'\n",
    "SCHEMA_PATH = '../assets/FootballDatabase.schema.sql'\n",
    "DATA_PATH = '../data/'"
   ]
  },
  {
   "cell_type": "code",
   "execution_count": 4,
   "id": "f2eaf938-e8a9-4c26-86da-b463a6b9e86e",
   "metadata": {},
   "outputs": [],
   "source": [
    "def mysql_connect(config):\n",
    "    try:\n",
    "        cnx = mysql.connector.connect(**config)\n",
    "    except mysql.connector.Error as err:\n",
    "        if err.errno == errorcode.ER_ACCESS_DENIED_ERROR:\n",
    "            print(f'[CONNECTION ERROR] Invalid credentials: {err}')\n",
    "        elif err.errno == errorcode.ER_BAD_DB_ERROR:\n",
    "            print(f'[CONNECTION ERROR] Database does not exist: {err}')\n",
    "        else:\n",
    "            print(f'[CONNECTION ERROR] {err}')\n",
    "        return (None, None)\n",
    "    else:\n",
    "        cursor = cnx.cursor()\n",
    "        return (cnx, cursor)\n",
    "    \n",
    "def mysql_close_connection(cnx):\n",
    "    try:\n",
    "        cnx.close()\n",
    "    except mysql.connector.Error as err:\n",
    "        print(f'[CLOSECONNECTION ERROR] Failes closing connection to mysql: {err}')\n",
    "        raise"
   ]
  },
  {
   "cell_type": "code",
   "execution_count": 5,
   "id": "bd850946-4f63-431e-a824-a0777238f5b5",
   "metadata": {},
   "outputs": [],
   "source": [
    "def create_database(cursor, dbname):\n",
    "    try:\n",
    "        cursor.execute(f'DROP DATABASE IF EXISTS {dbname}')\n",
    "        cursor.execute(f'CREATE DATABASE {dbname} DEFAULT CHARACTER SET \"UTF8MB4\"')\n",
    "    except mysql.connector.Error as err:\n",
    "        print(f'[CREATEDB ERROR] Failed creating database {dbname}: {err}')\n",
    "        raise"
   ]
  },
  {
   "cell_type": "code",
   "execution_count": 6,
   "id": "08bf0b0c-6541-4ba7-9152-e20fc51703e6",
   "metadata": {},
   "outputs": [],
   "source": [
    "import re\n",
    "\n",
    "def tables_from_schema(schema_path):\n",
    "    with open(schema_path, 'r') as schema_file:\n",
    "        schema = schema_file.read()\n",
    "    \n",
    "        # Split each `CREATE TABLE ...` in schema as an element of create_table array\n",
    "        create_table = re.split('(?<!^)\\s+(?=(CREATE))', schema)[::2]\n",
    "    \n",
    "        # Creata a dictionary with table name as key and create table script as value\n",
    "        # ==> table['league'] = 'CREATE TABLE `league` ( ...'\n",
    "        tables = {re.search(r'(?<=`)\\w+', table)[0]: table for table in create_table}\n",
    "    \n",
    "        schema_file.close()\n",
    "        return tables"
   ]
  },
  {
   "cell_type": "code",
   "execution_count": 7,
   "id": "04822a20-b08a-48db-b704-a811446483c7",
   "metadata": {},
   "outputs": [],
   "source": [
    "def create_schema(cnx, cursor, dbname, schema):\n",
    "    try:\n",
    "        cursor.execute(f'USE {dbname}')\n",
    "        print(f'Using database {dbname}')\n",
    "    except mysql.connector.Error as err:\n",
    "        print(f'Database {dbname} does not exists')\n",
    "        if err.errno == errorcode.ER_BAD_DB_ERROR:\n",
    "            create_database(cursor, dbname)\n",
    "            print(f'Database {dbname} created successfully')\n",
    "            cnx.database = dbname\n",
    "        else:\n",
    "            print(f'[CREATE SCHEMA ERROR] Failed creating schema: {err}')\n",
    "            raise\n",
    "    \n",
    "    tables = tables_from_schema(schema)\n",
    "    for table_name in tables:\n",
    "        table_description = tables[table_name]\n",
    "        try:\n",
    "            print(f'Creating table {table_name}: ', end='')\n",
    "            cursor.execute('SET FOREIGN_KEY_CHECKS=0')\n",
    "            cursor.execute(f'DROP TABLE IF EXISTS {table_name}')\n",
    "            cursor.execute('SET FOREIGN_KEY_CHECKS=1')\n",
    "            cursor.execute(table_description)\n",
    "        except mysql.connector.Error as err:\n",
    "            print(f'[CREATE TABLE ERROR] Failed creating table: {err}')\n",
    "            raise\n",
    "        else:\n",
    "            print('OK')\n",
    "            \n",
    "    return tables"
   ]
  },
  {
   "cell_type": "code",
   "execution_count": 16,
   "id": "de649e04-efa3-4dd9-a8fd-92ba580d8f65",
   "metadata": {},
   "outputs": [],
   "source": [
    "import os\n",
    "\n",
    "def load_data(cnx, cursor, dbname, tables, data_folder):\n",
    "    cnx.raise_on_warnings = True\n",
    "    cursor.execute(f'USE {dbname}')\n",
    "    for table_name in tables:\n",
    "        print(f'Loading data in table {table_name}')\n",
    "        infile_path = f'{data_folder}/{table_name}s.csv'\n",
    "        outfile_path = f'{data_folder}/{table_name}s_out.csv'\n",
    "        with open(infile_path, 'r') as infile, open(outfile_path, 'w') as outfile:\n",
    "            data = infile.read().replace('NA', r'\\N')\n",
    "            outfile.write(data)\n",
    "        cursor.execute(\n",
    "            f'''\n",
    "            LOAD DATA LOCAL INFILE '{outfile_path}'\n",
    "            INTO TABLE {table_name}\n",
    "            FIELDS TERMINATED BY ',' \n",
    "            ENCLOSED BY '\"'\n",
    "            LINES TERMINATED BY '\\n'\n",
    "            IGNORE 1 ROWS;\n",
    "            '''\n",
    "        )\n",
    "        cnx.commit()\n",
    "        os.remove(outfile_path)"
   ]
  },
  {
   "cell_type": "code",
   "execution_count": 17,
   "id": "46bc52c0-0d6b-40e4-80b0-ecee8a9f95fb",
   "metadata": {},
   "outputs": [
    {
     "name": "stdout",
     "output_type": "stream",
     "text": [
      "Using database football\n",
      "Creating table player: OK\n",
      "Creating table team: OK\n",
      "Creating table league: OK\n",
      "Creating table game: OK\n",
      "Creating table appearance: OK\n",
      "Creating table teamstat: OK\n",
      "Creating table shot: OK\n",
      "Loading data in table player\n",
      "Loading data in table team\n",
      "Loading data in table league\n",
      "Loading data in table game\n",
      "Loading data in table appearance\n",
      "Loading data in table teamstat\n",
      "Loading data in table shot\n"
     ]
    }
   ],
   "source": [
    "(cnx, cursor) = mysql_connect(DB_CONFIG)\n",
    "tables = create_schema(cnx, cursor, DB_NAME, SCHEMA_PATH)\n",
    "\n",
    "load_data(cnx, cursor, DB_NAME, tables, DATA_PATH)\n",
    "\n",
    "mysql_close_connection(cnx)"
   ]
  }
 ],
 "metadata": {
  "kernelspec": {
   "display_name": "Python 3 (ipykernel)",
   "language": "python",
   "name": "python3"
  },
  "language_info": {
   "codemirror_mode": {
    "name": "ipython",
    "version": 3
   },
   "file_extension": ".py",
   "mimetype": "text/x-python",
   "name": "python",
   "nbconvert_exporter": "python",
   "pygments_lexer": "ipython3",
   "version": "3.9.6"
  }
 },
 "nbformat": 4,
 "nbformat_minor": 5
}
